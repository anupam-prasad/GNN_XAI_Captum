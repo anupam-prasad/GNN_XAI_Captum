{
  "nbformat": 4,
  "nbformat_minor": 0,
  "metadata": {
    "colab": {
      "provenance": [],
      "include_colab_link": true
    },
    "kernelspec": {
      "display_name": "Python 3",
      "name": "python3"
    },
    "gpuClass": "standard"
  },
  "cells": [
    {
      "cell_type": "markdown",
      "metadata": {
        "id": "view-in-github",
        "colab_type": "text"
      },
      "source": [
        "<a href=\"https://colab.research.google.com/github/zaidishz/GNN_XAI_Captum/blob/main/GNN_Explanation.ipynb\" target=\"_parent\"><img src=\"https://colab.research.google.com/assets/colab-badge.svg\" alt=\"Open In Colab\"/></a>"
      ]
    },
    {
      "cell_type": "code",
      "metadata": {
        "colab": {
          "base_uri": "https://localhost:8080/"
        },
        "id": "F1op-CbyLuN4",
        "outputId": "4db15c52-492d-4287-9161-a44a83173e63"
      },
      "source": [
        "# Install required packages.\n",
        "import os\n",
        "import torch\n",
        "os.environ['TORCH'] = torch.__version__\n",
        "print(torch.__version__)\n",
        "\n",
        "!pip install -q torch-scatter -f https://data.pyg.org/whl/torch-${TORCH}.html\n",
        "!pip install -q torch-sparse -f https://data.pyg.org/whl/torch-${TORCH}.html\n",
        "!pip install -q git+https://github.com/pyg-team/pytorch_geometric.git\n",
        "!pip install -q captum\n",
        "\n",
        "%matplotlib inline\n",
        "import matplotlib.pyplot as plt"
      ],
      "execution_count": 1,
      "outputs": [
        {
          "output_type": "stream",
          "name": "stdout",
          "text": [
            "1.13.1+cu116\n",
            "\u001b[2K     \u001b[90m━━━━━━━━━━━━━━━━━━━━━━━━━━━━━━━━━━━━━━━━\u001b[0m \u001b[32m9.4/9.4 MB\u001b[0m \u001b[31m41.0 MB/s\u001b[0m eta \u001b[36m0:00:00\u001b[0m\n",
            "\u001b[2K     \u001b[90m━━━━━━━━━━━━━━━━━━━━━━━━━━━━━━━━━━━━━━━━\u001b[0m \u001b[32m4.5/4.5 MB\u001b[0m \u001b[31m25.7 MB/s\u001b[0m eta \u001b[36m0:00:00\u001b[0m\n",
            "\u001b[?25h  Installing build dependencies ... \u001b[?25l\u001b[?25hdone\n",
            "  Getting requirements to build wheel ... \u001b[?25l\u001b[?25hdone\n",
            "  Preparing metadata (pyproject.toml) ... \u001b[?25l\u001b[?25hdone\n",
            "  Building wheel for torch-geometric (pyproject.toml) ... \u001b[?25l\u001b[?25hdone\n",
            "\u001b[2K     \u001b[90m━━━━━━━━━━━━━━━━━━━━━━━━━━━━━━━━━━━━━━━━\u001b[0m \u001b[32m1.3/1.3 MB\u001b[0m \u001b[31m15.9 MB/s\u001b[0m eta \u001b[36m0:00:00\u001b[0m\n",
            "\u001b[?25h"
          ]
        }
      ]
    },
    {
      "cell_type": "markdown",
      "metadata": {
        "id": "nMTL0kk0seBw"
      },
      "source": [
        "# Explaining GNN Model Predictions using Captum\n",
        "\n",
        "Mutagenicity dataset from [TUDatasets](https://chrsmrrs.github.io/datasets/). This dataset consists of 4337 molecule graphs where the task is to predict the molecule mutagenicity."
      ]
    },
    {
      "cell_type": "markdown",
      "metadata": {
        "id": "mJtgD2A1uJAa"
      },
      "source": [
        "## Loading the dataset\n",
        "\n",
        "load the dataset (10% of the data as the test split)"
      ]
    },
    {
      "cell_type": "code",
      "metadata": {
        "id": "SE2iREv4q2dL",
        "colab": {
          "base_uri": "https://localhost:8080/"
        },
        "outputId": "6d5dabd0-beca-4463-fd59-2a0740e701b5"
      },
      "source": [
        "from torch_geometric.loader import DataLoader\n",
        "from torch_geometric.datasets import TUDataset\n",
        "\n",
        "path = '.'\n",
        "dataset = TUDataset(path, name='Mutagenicity').shuffle()\n",
        "test_dataset = dataset[:len(dataset) // 10]\n",
        "train_dataset = dataset[len(dataset) // 10:]\n",
        "test_loader = DataLoader(test_dataset, batch_size=128)\n",
        "train_loader = DataLoader(train_dataset, batch_size=128)"
      ],
      "execution_count": 2,
      "outputs": [
        {
          "output_type": "stream",
          "name": "stderr",
          "text": [
            "Downloading https://www.chrsmrrs.com/graphkerneldatasets/Mutagenicity.zip\n",
            "Extracting ./Mutagenicity/Mutagenicity.zip\n",
            "Processing...\n",
            "Done!\n"
          ]
        }
      ]
    },
    {
      "cell_type": "markdown",
      "metadata": {
        "id": "g35SSQ3oukNM"
      },
      "source": [
        "## Visualizing the data\n"
      ]
    },
    {
      "cell_type": "code",
      "metadata": {
        "id": "9Hh3YNASuYxm"
      },
      "source": [
        "import networkx as nx\n",
        "import numpy as np\n",
        "\n",
        "from torch_geometric.utils import to_networkx\n",
        "\n",
        "\n",
        "def draw_molecule(g, edge_mask=None, draw_edge_labels=False):\n",
        "    g = g.copy().to_undirected()\n",
        "    node_labels = {}\n",
        "    for u, data in g.nodes(data=True):\n",
        "        node_labels[u] = data['name']\n",
        "    pos = nx.planar_layout(g)\n",
        "    pos = nx.spring_layout(g, pos=pos)\n",
        "    if edge_mask is None:\n",
        "        edge_color = 'black'\n",
        "        widths = None\n",
        "    else:\n",
        "        edge_color = [edge_mask[(u, v)] for u, v in g.edges()]\n",
        "        widths = [x * 10 for x in edge_color]\n",
        "    nx.draw(g, pos=pos, labels=node_labels, width=widths,\n",
        "            edge_color=edge_color, edge_cmap=plt.cm.Blues,\n",
        "            node_color='azure')\n",
        "    \n",
        "    if draw_edge_labels and edge_mask is not None:\n",
        "        edge_labels = {k: ('%.2f' % v) for k, v in edge_mask.items()}    \n",
        "        nx.draw_networkx_edge_labels(g, pos, edge_labels=edge_labels,\n",
        "                                    font_color='red')\n",
        "    plt.show()\n",
        "\n",
        "\n",
        "def to_molecule(data):\n",
        "    ATOM_MAP = ['C', 'O', 'Cl', 'H', 'N', 'F',\n",
        "                'Br', 'S', 'P', 'I', 'Na', 'K', 'Li', 'Ca']\n",
        "    g = to_networkx(data, node_attrs=['x'])\n",
        "    for u, data in g.nodes(data=True):\n",
        "        data['name'] = ATOM_MAP[data['x'].index(1.0)]\n",
        "        del data['x']\n",
        "    return g\n"
      ],
      "execution_count": 3,
      "outputs": []
    },
    {
      "cell_type": "markdown",
      "metadata": {
        "id": "cJ3JuTH1vV1V"
      },
      "source": [
        "## Sample visualization\n",
        "\n",
        "We sample a single molecule from train_dataset and visualize it"
      ]
    },
    {
      "cell_type": "code",
      "metadata": {
        "colab": {
          "base_uri": "https://localhost:8080/",
          "height": 391
        },
        "id": "4Z2uE7zVuhXU",
        "outputId": "6abe363e-b7fc-4d69-837f-d0ca891c02a7"
      },
      "source": [
        "import random\n",
        "\n",
        "data = random.choice([t for t in train_dataset])\n",
        "mol = to_molecule(data)\n",
        "plt.figure(figsize=(10, 5))\n",
        "draw_molecule(mol)"
      ],
      "execution_count": 4,
      "outputs": [
        {
          "output_type": "display_data",
          "data": {
            "text/plain": [
              "<Figure size 720x360 with 1 Axes>"
            ],
            "image/png": "[encoded data removed]"
          },
          "metadata": {}
        }
      ]
    },
    {
      "cell_type": "markdown",
      "metadata": {
        "id": "6kZo9g1hwCGG"
      },
      "source": [
        "## Training the model\n",
        "\n",
        "GNN model with 5 convolution layers. We use GraphConv which supports `edge_weight` as a parameter."
      ]
    },
    {
      "cell_type": "markdown",
      "metadata": {
        "id": "GBVIOfMCCHAb"
      },
      "source": [
        "### Define the model"
      ]
    },
    {
      "cell_type": "code",
      "metadata": {
        "id": "iI1qpFUhrA2p"
      },
      "source": [
        "import torch\n",
        "from torch.nn import Linear\n",
        "import torch.nn.functional as F\n",
        "\n",
        "from torch_geometric.nn import GraphConv, global_add_pool\n",
        "\n",
        "class Net(torch.nn.Module):\n",
        "    def __init__(self, dim):\n",
        "        super(Net, self).__init__()\n",
        "\n",
        "        num_features = dataset.num_features\n",
        "        self.dim = dim\n",
        "\n",
        "        self.conv1 = GraphConv(num_features, dim)\n",
        "        self.conv2 = GraphConv(dim, dim)\n",
        "        self.conv3 = GraphConv(dim, dim)\n",
        "        self.conv4 = GraphConv(dim, dim)\n",
        "        self.conv5 = GraphConv(dim, dim)\n",
        "\n",
        "        self.lin1 = Linear(dim, dim)\n",
        "        self.lin2 = Linear(dim, dataset.num_classes)\n",
        "\n",
        "    def forward(self, x, edge_index, batch, edge_weight=None):\n",
        "        x = self.conv1(x, edge_index, edge_weight).relu()\n",
        "        x = self.conv2(x, edge_index, edge_weight).relu()\n",
        "        x = self.conv3(x, edge_index, edge_weight).relu()\n",
        "        x = self.conv4(x, edge_index, edge_weight).relu()\n",
        "        x = self.conv5(x, edge_index, edge_weight).relu()\n",
        "        x = global_add_pool(x, batch)\n",
        "        x = self.lin1(x).relu()\n",
        "        x = F.dropout(x, p=0.5, training=self.training)\n",
        "        x = self.lin2(x)\n",
        "        return F.log_softmax(x, dim=-1)\n"
      ],
      "execution_count": 5,
      "outputs": []
    },
    {
      "cell_type": "markdown",
      "metadata": {
        "id": "L3WOZ40OCKO5"
      },
      "source": [
        "### Define train and test functions"
      ]
    },
    {
      "cell_type": "code",
      "metadata": {
        "id": "ExNsODp3rKjN"
      },
      "source": [
        "def train(epoch):\n",
        "    model.train()\n",
        "\n",
        "    if epoch == 51:\n",
        "        for param_group in optimizer.param_groups:\n",
        "            param_group['lr'] = 0.5 * param_group['lr']\n",
        "\n",
        "    loss_all = 0\n",
        "    for data in train_loader:\n",
        "        data = data.to(device)\n",
        "        optimizer.zero_grad()\n",
        "        output = model(data.x, data.edge_index, data.batch)\n",
        "        loss = F.nll_loss(output, data.y)\n",
        "        loss.backward()\n",
        "        loss_all += loss.item() * data.num_graphs\n",
        "        optimizer.step()\n",
        "    return loss_all / len(train_dataset)\n",
        "\n",
        "\n",
        "def test(loader):\n",
        "    model.eval()\n",
        "\n",
        "    correct = 0\n",
        "    for data in loader:\n",
        "        data = data.to(device)\n",
        "        output = model(data.x, data.edge_index, data.batch)\n",
        "        pred = output.max(dim=1)[1]\n",
        "        correct += pred.eq(data.y).sum().item()\n",
        "    return correct / len(loader.dataset)"
      ],
      "execution_count": 6,
      "outputs": []
    },
    {
      "cell_type": "markdown",
      "metadata": {
        "id": "rsv9CQ6hCNMI"
      },
      "source": [
        "### Train the model for 100 epochs"
      ]
    },
    {
      "cell_type": "code",
      "metadata": {
        "colab": {
          "base_uri": "https://localhost:8080/"
        },
        "id": "4imSoTlMrQdN",
        "outputId": "3b7007d4-cdd5-4680-9dfe-32603fd50561"
      },
      "source": [
        "device = torch.device('cuda' if torch.cuda.is_available() else 'cpu')\n",
        "model = Net(dim=32).to(device)\n",
        "optimizer = torch.optim.Adam(model.parameters(), lr=0.001)\n",
        "\n",
        "for epoch in range(1, 101):\n",
        "    loss = train(epoch)\n",
        "    train_acc = test(train_loader)\n",
        "    test_acc = test(test_loader)\n",
        "    print(f'Epoch: {epoch:03d}, Loss: {loss:.4f}, '\n",
        "          f'Train Acc: {train_acc:.4f}, Test Acc: {test_acc:.4f}')\n"
      ],
      "execution_count": 7,
      "outputs": [
        {
          "output_type": "stream",
          "name": "stdout",
          "text": [
            "Epoch: 001, Loss: 0.7804, Train Acc: 0.6565, Test Acc: 0.6674\n",
            "Epoch: 002, Loss: 0.6279, Train Acc: 0.6824, Test Acc: 0.6813\n",
            "Epoch: 003, Loss: 0.6172, Train Acc: 0.6936, Test Acc: 0.6836\n",
            "Epoch: 004, Loss: 0.6006, Train Acc: 0.6975, Test Acc: 0.6882\n",
            "Epoch: 005, Loss: 0.5988, Train Acc: 0.7093, Test Acc: 0.7067\n",
            "Epoch: 006, Loss: 0.5827, Train Acc: 0.7236, Test Acc: 0.7321\n",
            "Epoch: 007, Loss: 0.5839, Train Acc: 0.7208, Test Acc: 0.7344\n",
            "Epoch: 008, Loss: 0.5617, Train Acc: 0.7318, Test Acc: 0.7206\n",
            "Epoch: 009, Loss: 0.5719, Train Acc: 0.7428, Test Acc: 0.7367\n",
            "Epoch: 010, Loss: 0.5560, Train Acc: 0.7449, Test Acc: 0.7506\n",
            "Epoch: 011, Loss: 0.5553, Train Acc: 0.7497, Test Acc: 0.7483\n",
            "Epoch: 012, Loss: 0.5357, Train Acc: 0.7515, Test Acc: 0.7367\n",
            "Epoch: 013, Loss: 0.5496, Train Acc: 0.7531, Test Acc: 0.7483\n",
            "Epoch: 014, Loss: 0.5404, Train Acc: 0.7579, Test Acc: 0.7621\n",
            "Epoch: 015, Loss: 0.5244, Train Acc: 0.7582, Test Acc: 0.7529\n",
            "Epoch: 016, Loss: 0.5183, Train Acc: 0.7741, Test Acc: 0.7575\n",
            "Epoch: 017, Loss: 0.5110, Train Acc: 0.7902, Test Acc: 0.7575\n",
            "Epoch: 018, Loss: 0.5015, Train Acc: 0.7859, Test Acc: 0.7806\n",
            "Epoch: 019, Loss: 0.4939, Train Acc: 0.7884, Test Acc: 0.7829\n",
            "Epoch: 020, Loss: 0.4952, Train Acc: 0.7964, Test Acc: 0.7806\n",
            "Epoch: 021, Loss: 0.4888, Train Acc: 0.8020, Test Acc: 0.7760\n",
            "Epoch: 022, Loss: 0.4857, Train Acc: 0.7953, Test Acc: 0.7968\n",
            "Epoch: 023, Loss: 0.4794, Train Acc: 0.8005, Test Acc: 0.7921\n",
            "Epoch: 024, Loss: 0.4686, Train Acc: 0.8043, Test Acc: 0.7737\n",
            "Epoch: 025, Loss: 0.4713, Train Acc: 0.7969, Test Acc: 0.7968\n",
            "Epoch: 026, Loss: 0.4740, Train Acc: 0.8048, Test Acc: 0.7921\n",
            "Epoch: 027, Loss: 0.4539, Train Acc: 0.8130, Test Acc: 0.7829\n",
            "Epoch: 028, Loss: 0.4510, Train Acc: 0.8125, Test Acc: 0.7852\n",
            "Epoch: 029, Loss: 0.4462, Train Acc: 0.8148, Test Acc: 0.7945\n",
            "Epoch: 030, Loss: 0.4408, Train Acc: 0.8166, Test Acc: 0.8037\n",
            "Epoch: 031, Loss: 0.4416, Train Acc: 0.8171, Test Acc: 0.8083\n",
            "Epoch: 032, Loss: 0.4412, Train Acc: 0.8276, Test Acc: 0.7921\n",
            "Epoch: 033, Loss: 0.4316, Train Acc: 0.8276, Test Acc: 0.7968\n",
            "Epoch: 034, Loss: 0.4215, Train Acc: 0.8338, Test Acc: 0.8129\n",
            "Epoch: 035, Loss: 0.4167, Train Acc: 0.8279, Test Acc: 0.8222\n",
            "Epoch: 036, Loss: 0.4214, Train Acc: 0.8245, Test Acc: 0.8014\n",
            "Epoch: 037, Loss: 0.4177, Train Acc: 0.8302, Test Acc: 0.8176\n",
            "Epoch: 038, Loss: 0.4129, Train Acc: 0.8297, Test Acc: 0.8222\n",
            "Epoch: 039, Loss: 0.4209, Train Acc: 0.8340, Test Acc: 0.8245\n",
            "Epoch: 040, Loss: 0.4156, Train Acc: 0.8386, Test Acc: 0.8176\n",
            "Epoch: 041, Loss: 0.4091, Train Acc: 0.8379, Test Acc: 0.8268\n",
            "Epoch: 042, Loss: 0.4051, Train Acc: 0.8422, Test Acc: 0.8222\n",
            "Epoch: 043, Loss: 0.4001, Train Acc: 0.8386, Test Acc: 0.8199\n",
            "Epoch: 044, Loss: 0.3910, Train Acc: 0.8450, Test Acc: 0.8222\n",
            "Epoch: 045, Loss: 0.3986, Train Acc: 0.8312, Test Acc: 0.8129\n",
            "Epoch: 046, Loss: 0.3933, Train Acc: 0.8397, Test Acc: 0.8245\n",
            "Epoch: 047, Loss: 0.3920, Train Acc: 0.8414, Test Acc: 0.8337\n",
            "Epoch: 048, Loss: 0.3860, Train Acc: 0.8371, Test Acc: 0.8037\n",
            "Epoch: 049, Loss: 0.3834, Train Acc: 0.8402, Test Acc: 0.8152\n",
            "Epoch: 050, Loss: 0.3784, Train Acc: 0.8458, Test Acc: 0.8199\n",
            "Epoch: 051, Loss: 0.3777, Train Acc: 0.8455, Test Acc: 0.8176\n",
            "Epoch: 052, Loss: 0.3661, Train Acc: 0.8461, Test Acc: 0.8152\n",
            "Epoch: 053, Loss: 0.3653, Train Acc: 0.8445, Test Acc: 0.8106\n",
            "Epoch: 054, Loss: 0.3654, Train Acc: 0.8484, Test Acc: 0.8129\n",
            "Epoch: 055, Loss: 0.3620, Train Acc: 0.8432, Test Acc: 0.8037\n",
            "Epoch: 056, Loss: 0.3630, Train Acc: 0.8522, Test Acc: 0.8268\n",
            "Epoch: 057, Loss: 0.3599, Train Acc: 0.8486, Test Acc: 0.8152\n",
            "Epoch: 058, Loss: 0.3607, Train Acc: 0.8517, Test Acc: 0.8176\n",
            "Epoch: 059, Loss: 0.3577, Train Acc: 0.8494, Test Acc: 0.8152\n",
            "Epoch: 060, Loss: 0.3529, Train Acc: 0.8478, Test Acc: 0.8083\n",
            "Epoch: 061, Loss: 0.3611, Train Acc: 0.8435, Test Acc: 0.8152\n",
            "Epoch: 062, Loss: 0.3558, Train Acc: 0.8461, Test Acc: 0.8129\n",
            "Epoch: 063, Loss: 0.3677, Train Acc: 0.8519, Test Acc: 0.8152\n",
            "Epoch: 064, Loss: 0.3608, Train Acc: 0.8566, Test Acc: 0.8222\n",
            "Epoch: 065, Loss: 0.3621, Train Acc: 0.8532, Test Acc: 0.8129\n",
            "Epoch: 066, Loss: 0.3544, Train Acc: 0.8560, Test Acc: 0.8176\n",
            "Epoch: 067, Loss: 0.3477, Train Acc: 0.8578, Test Acc: 0.8222\n",
            "Epoch: 068, Loss: 0.3472, Train Acc: 0.8568, Test Acc: 0.8245\n",
            "Epoch: 069, Loss: 0.3420, Train Acc: 0.8607, Test Acc: 0.8245\n",
            "Epoch: 070, Loss: 0.3462, Train Acc: 0.8584, Test Acc: 0.8268\n",
            "Epoch: 071, Loss: 0.3428, Train Acc: 0.8594, Test Acc: 0.8245\n",
            "Epoch: 072, Loss: 0.3369, Train Acc: 0.8653, Test Acc: 0.8245\n",
            "Epoch: 073, Loss: 0.3407, Train Acc: 0.8591, Test Acc: 0.8268\n",
            "Epoch: 074, Loss: 0.3385, Train Acc: 0.8601, Test Acc: 0.8268\n",
            "Epoch: 075, Loss: 0.3416, Train Acc: 0.8601, Test Acc: 0.8152\n",
            "Epoch: 076, Loss: 0.3371, Train Acc: 0.8622, Test Acc: 0.8152\n",
            "Epoch: 077, Loss: 0.3342, Train Acc: 0.8637, Test Acc: 0.8176\n",
            "Epoch: 078, Loss: 0.3368, Train Acc: 0.8624, Test Acc: 0.8129\n",
            "Epoch: 079, Loss: 0.3365, Train Acc: 0.8607, Test Acc: 0.8106\n",
            "Epoch: 080, Loss: 0.3272, Train Acc: 0.8637, Test Acc: 0.8176\n",
            "Epoch: 081, Loss: 0.3260, Train Acc: 0.8665, Test Acc: 0.8222\n",
            "Epoch: 082, Loss: 0.3267, Train Acc: 0.8660, Test Acc: 0.8268\n",
            "Epoch: 083, Loss: 0.3296, Train Acc: 0.8630, Test Acc: 0.8245\n",
            "Epoch: 084, Loss: 0.3314, Train Acc: 0.8645, Test Acc: 0.8176\n",
            "Epoch: 085, Loss: 0.3261, Train Acc: 0.8694, Test Acc: 0.8199\n",
            "Epoch: 086, Loss: 0.3308, Train Acc: 0.8691, Test Acc: 0.8268\n",
            "Epoch: 087, Loss: 0.3287, Train Acc: 0.8673, Test Acc: 0.8360\n",
            "Epoch: 088, Loss: 0.3337, Train Acc: 0.8689, Test Acc: 0.8245\n",
            "Epoch: 089, Loss: 0.3351, Train Acc: 0.8681, Test Acc: 0.8291\n",
            "Epoch: 090, Loss: 0.3309, Train Acc: 0.8717, Test Acc: 0.8337\n",
            "Epoch: 091, Loss: 0.3343, Train Acc: 0.8648, Test Acc: 0.8291\n",
            "Epoch: 092, Loss: 0.3240, Train Acc: 0.8722, Test Acc: 0.8314\n",
            "Epoch: 093, Loss: 0.3227, Train Acc: 0.8655, Test Acc: 0.8268\n",
            "Epoch: 094, Loss: 0.3202, Train Acc: 0.8694, Test Acc: 0.8291\n",
            "Epoch: 095, Loss: 0.3249, Train Acc: 0.8691, Test Acc: 0.8222\n",
            "Epoch: 096, Loss: 0.3308, Train Acc: 0.8676, Test Acc: 0.8268\n",
            "Epoch: 097, Loss: 0.3180, Train Acc: 0.8694, Test Acc: 0.8222\n",
            "Epoch: 098, Loss: 0.3176, Train Acc: 0.8719, Test Acc: 0.8291\n",
            "Epoch: 099, Loss: 0.3173, Train Acc: 0.8712, Test Acc: 0.8314\n",
            "Epoch: 100, Loss: 0.3124, Train Acc: 0.8730, Test Acc: 0.8268\n"
          ]
        }
      ]
    },
    {
      "cell_type": "markdown",
      "metadata": {
        "id": "PzX9xwFxCTff"
      },
      "source": [
        "## Explaining the predictions\n",
        "\n",
        "Now we look at two popular attribution methods. First, we calculate the gradient of the output with respect to the edge weights $w_{e_i}$. Edge weights are initially one for all edges.\n",
        "For the saliency method, we use the absolute value of the gradient as the attribution value for each edge:\n",
        "\n",
        "$$\n",
        "Attribution_{e_i} = |\\frac{\\partial F(x)}{\\partial w_{e_i}}|\n",
        "$$\n",
        "\n",
        "Where $x$ is the input and $F(x)$ is the output of the GNN model on input $x$.\n",
        "\n",
        "For Integrated Gradients method, we interpolate between the current input and a baseline input where the weight of all edges is zero and accumulate the gradient values for each edge:\n",
        "\n",
        "$$\n",
        "Attribution_{e_i} = \\int_{\\alpha =0}^1 \\frac{\\partial F(x_{\\alpha)}}{\\partial w_{e_i}} d\\alpha\n",
        "$$\n",
        "\n",
        "Where $x_{\\alpha}$ is the same as the original input graph but the weight of all edges is set to $\\alpha$. Integrated Gradients complete formulation is more complicated but since our initial edge weights are equal to one and the baseline is zero, it can be simplified to the formulation above. You can read more about this method [here](https://arxiv.org/abs/1703.01365). Of course, this can not be calculated directly and is approximated by a discrete sum.\n",
        "\n",
        "We use the [captum](https://captum.ai/) library for calculating the attribution values. We define the `model_forward` function which calculates the `batch` argument assuming that we are only explaining a single graph at a time.\n",
        "\n"
      ]
    },
    {
      "cell_type": "code",
      "metadata": {
        "id": "Wz6B1NgorzAX"
      },
      "source": [
        "from captum.attr import Saliency, IntegratedGradients\n",
        "\n",
        "def model_forward(edge_mask, data):\n",
        "    batch = torch.zeros(data.x.shape[0], dtype=int).to(device)\n",
        "    out = model(data.x, data.edge_index, batch, edge_mask)\n",
        "    return out\n",
        "\n",
        "\n",
        "def explain(method, data, target=0):\n",
        "    input_mask = torch.ones(data.edge_index.shape[1]).requires_grad_(True).to(device)\n",
        "    if method == 'ig':\n",
        "        ig = IntegratedGradients(model_forward)\n",
        "        mask = ig.attribute(input_mask, target=target,\n",
        "                            additional_forward_args=(data,),\n",
        "                            internal_batch_size=data.edge_index.shape[1])\n",
        "    elif method == 'saliency':\n",
        "        saliency = Saliency(model_forward)\n",
        "        mask = saliency.attribute(input_mask, target=target,\n",
        "                                  additional_forward_args=(data,))\n",
        "    else:\n",
        "        raise Exception('Unknown explanation method')\n",
        "\n",
        "    edge_mask = np.abs(mask.cpu().detach().numpy())\n",
        "    if edge_mask.max() > 0:  # avoid division by zero\n",
        "        edge_mask = edge_mask / edge_mask.max()\n",
        "    return edge_mask"
      ],
      "execution_count": 8,
      "outputs": []
    },
    {
      "cell_type": "markdown",
      "metadata": {
        "id": "0FPGLRtSFacR"
      },
      "source": [
        "Finally we take a random sample from the test dataset and run the explanation methods. For a simpler visualization, we make the graph undirected and merge the explanations of each edge in both directions.\n",
        "\n",
        "It is known that NO2 substructure makes the molecules mutagenic in many cases and you can verify this by the model explanations.\n",
        "\n",
        "Mutagenic molecules have label 0 in this dataset and we only sample from those molecules but you can change the code and see the explanations for the other class as well.\n",
        "\n",
        "In this visualization, edge colors and thickness represent the importance. You can also see the numeric value by passing `draw_edge_labels` to `draw_molecule` function.\n",
        "\n",
        "As you can see Integrated Gradients tend to create more accurate explanations."
      ]
    },
    {
      "cell_type": "code",
      "metadata": {
        "id": "Z1mJVbKorh5y",
        "colab": {
          "base_uri": "https://localhost:8080/",
          "height": 621
        },
        "outputId": "4c41ba76-e31c-494d-aca5-d34c0efbadbf"
      },
      "source": [
        "import random\n",
        "from collections import defaultdict\n",
        "\n",
        "def aggregate_edge_directions(edge_mask, data):\n",
        "    edge_mask_dict = defaultdict(float)\n",
        "    for val, u, v in list(zip(edge_mask, *data.edge_index)):\n",
        "        u, v = u.item(), v.item()\n",
        "        if u > v:\n",
        "            u, v = v, u\n",
        "        edge_mask_dict[(u, v)] += val\n",
        "    return edge_mask_dict\n",
        "    \n",
        "\n",
        "data = random.choice([t for t in test_dataset if not t.y.item()])\n",
        "mol = to_molecule(data)\n",
        "\n",
        "for title, method in [('Integrated Gradients', 'ig'), ('Saliency', 'saliency')]:\n",
        "    edge_mask = explain(method, data, target=0)\n",
        "    edge_mask_dict = aggregate_edge_directions(edge_mask, data)\n",
        "    plt.figure(figsize=(10, 5))\n",
        "    plt.title(title)\n",
        "    draw_molecule(mol, edge_mask_dict)"
      ],
      "execution_count": 9,
      "outputs": [
        {
          "output_type": "display_data",
          "data": {
            "text/plain": [
              "<Figure size 720x360 with 1 Axes>"
            ],
            "image/png": "[encoded data removed]"
          },
          "metadata": {}
        },
        {
          "output_type": "display_data",
          "data": {
            "text/plain": [
              "<Figure size 720x360 with 1 Axes>"
            ],
            "image/png": "[encoded data removed]"
          },
          "metadata": {}
        }
      ]
    }
  ]
}